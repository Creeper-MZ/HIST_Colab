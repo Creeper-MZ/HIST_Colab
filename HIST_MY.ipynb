{
  "nbformat": 4,
  "nbformat_minor": 0,
  "metadata": {
    "colab": {
      "name": "HIST_MY.ipynb",
      "provenance": [],
      "collapsed_sections": []
    },
    "kernelspec": {
      "name": "python3",
      "display_name": "Python 3"
    },
    "language_info": {
      "name": "python"
    },
    "accelerator": "GPU"
  },
  "cells": [
    {
      "cell_type": "code",
      "execution_count": 1,
      "metadata": {
        "colab": {
          "base_uri": "https://localhost:8080/"
        },
        "id": "JdynHs0sDUNd",
        "outputId": "b853b7e3-7dee-492d-db5f-db680f092f84"
      },
      "outputs": [
        {
          "output_type": "stream",
          "name": "stdout",
          "text": [
            "Cloning into 'HIST_Colab'...\n",
            "remote: Enumerating objects: 33, done.\u001b[K\n",
            "remote: Counting objects: 100% (33/33), done.\u001b[K\n",
            "remote: Compressing objects: 100% (22/22), done.\u001b[K\n",
            "remote: Total 33 (delta 11), reused 30 (delta 8), pack-reused 0\u001b[K\n",
            "Unpacking objects: 100% (33/33), done.\n"
          ]
        }
      ],
      "source": [
        "!git clone https://github.com/Creeper-MZ/HIST_Colab.git"
      ]
    },
    {
      "cell_type": "code",
      "source": [
        "!pip install -r HIST_Colab/requirements.txt"
      ],
      "metadata": {
        "colab": {
          "base_uri": "https://localhost:8080/",
          "height": 1000
        },
        "id": "qVGeqrcPD0Mu",
        "outputId": "97e694e0-d645-466e-8af8-8375e0fff976"
      },
      "execution_count": 2,
      "outputs": [
        {
          "output_type": "stream",
          "name": "stdout",
          "text": [
            "Looking in indexes: https://pypi.org/simple, https://us-python.pkg.dev/colab-wheels/public/simple/\n",
            "Requirement already satisfied: scipy in /usr/local/lib/python3.7/dist-packages (from -r HIST_Colab/requirements.txt (line 1)) (1.4.1)\n",
            "Requirement already satisfied: xgboost in /usr/local/lib/python3.7/dist-packages (from -r HIST_Colab/requirements.txt (line 2)) (0.90)\n",
            "Collecting catboost\n",
            "  Downloading catboost-1.0.6-cp37-none-manylinux1_x86_64.whl (76.6 MB)\n",
            "\u001b[K     |████████████████████████████████| 76.6 MB 1.1 MB/s \n",
            "\u001b[?25hRequirement already satisfied: scikit_learn in /usr/local/lib/python3.7/dist-packages (from -r HIST_Colab/requirements.txt (line 4)) (1.0.2)\n",
            "Requirement already satisfied: tqdm in /usr/local/lib/python3.7/dist-packages (from -r HIST_Colab/requirements.txt (line 5)) (4.64.0)\n",
            "Collecting pyqlib\n",
            "  Downloading pyqlib-0.8.5-cp37-cp37m-manylinux_2_5_x86_64.manylinux1_x86_64.manylinux_2_12_x86_64.manylinux2010_x86_64.whl (907 kB)\n",
            "\u001b[K     |████████████████████████████████| 907 kB 54.7 MB/s \n",
            "\u001b[?25hCollecting pickle5\n",
            "  Downloading pickle5-0.0.12-cp37-cp37m-manylinux_2_5_x86_64.manylinux1_x86_64.whl (256 kB)\n",
            "\u001b[K     |████████████████████████████████| 256 kB 73.9 MB/s \n",
            "\u001b[?25hRequirement already satisfied: numpy>=1.13.3 in /usr/local/lib/python3.7/dist-packages (from scipy->-r HIST_Colab/requirements.txt (line 1)) (1.21.6)\n",
            "Requirement already satisfied: plotly in /usr/local/lib/python3.7/dist-packages (from catboost->-r HIST_Colab/requirements.txt (line 3)) (5.5.0)\n",
            "Requirement already satisfied: graphviz in /usr/local/lib/python3.7/dist-packages (from catboost->-r HIST_Colab/requirements.txt (line 3)) (0.10.1)\n",
            "Requirement already satisfied: matplotlib in /usr/local/lib/python3.7/dist-packages (from catboost->-r HIST_Colab/requirements.txt (line 3)) (3.2.2)\n",
            "Requirement already satisfied: pandas>=0.24.0 in /usr/local/lib/python3.7/dist-packages (from catboost->-r HIST_Colab/requirements.txt (line 3)) (1.3.5)\n",
            "Requirement already satisfied: six in /usr/local/lib/python3.7/dist-packages (from catboost->-r HIST_Colab/requirements.txt (line 3)) (1.15.0)\n",
            "Requirement already satisfied: python-dateutil>=2.7.3 in /usr/local/lib/python3.7/dist-packages (from pandas>=0.24.0->catboost->-r HIST_Colab/requirements.txt (line 3)) (2.8.2)\n",
            "Requirement already satisfied: pytz>=2017.3 in /usr/local/lib/python3.7/dist-packages (from pandas>=0.24.0->catboost->-r HIST_Colab/requirements.txt (line 3)) (2022.1)\n",
            "Requirement already satisfied: joblib>=0.11 in /usr/local/lib/python3.7/dist-packages (from scikit_learn->-r HIST_Colab/requirements.txt (line 4)) (1.1.0)\n",
            "Requirement already satisfied: threadpoolctl>=2.0.0 in /usr/local/lib/python3.7/dist-packages (from scikit_learn->-r HIST_Colab/requirements.txt (line 4)) (3.1.0)\n",
            "Collecting sacred>=0.7.4\n",
            "  Downloading sacred-0.8.2-py2.py3-none-any.whl (106 kB)\n",
            "\u001b[K     |████████████████████████████████| 106 kB 71.0 MB/s \n",
            "\u001b[?25hCollecting pyyaml>=5.3.1\n",
            "  Downloading PyYAML-6.0-cp37-cp37m-manylinux_2_5_x86_64.manylinux1_x86_64.manylinux_2_12_x86_64.manylinux2010_x86_64.whl (596 kB)\n",
            "\u001b[K     |████████████████████████████████| 596 kB 65.9 MB/s \n",
            "\u001b[?25hRequirement already satisfied: dill in /usr/local/lib/python3.7/dist-packages (from pyqlib->-r HIST_Colab/requirements.txt (line 6)) (0.3.5.1)\n",
            "Collecting mlflow>=1.12.1\n",
            "  Downloading mlflow-1.26.1-py3-none-any.whl (17.8 MB)\n",
            "\u001b[K     |████████████████████████████████| 17.8 MB 1.0 MB/s \n",
            "\u001b[?25hCollecting fire>=0.3.1\n",
            "  Downloading fire-0.4.0.tar.gz (87 kB)\n",
            "\u001b[K     |████████████████████████████████| 87 kB 4.3 MB/s \n",
            "\u001b[?25hRequirement already satisfied: tables>=3.6.1 in /usr/local/lib/python3.7/dist-packages (from pyqlib->-r HIST_Colab/requirements.txt (line 6)) (3.7.0)\n",
            "Requirement already satisfied: cvxpy>=1.0.21 in /usr/local/lib/python3.7/dist-packages (from pyqlib->-r HIST_Colab/requirements.txt (line 6)) (1.0.31)\n",
            "Collecting pymongo==3.7.2\n",
            "  Downloading pymongo-3.7.2-cp37-cp37m-manylinux1_x86_64.whl (406 kB)\n",
            "\u001b[K     |████████████████████████████████| 406 kB 67.6 MB/s \n",
            "\u001b[?25hRequirement already satisfied: hyperopt==0.1.2 in /usr/local/lib/python3.7/dist-packages (from pyqlib->-r HIST_Colab/requirements.txt (line 6)) (0.1.2)\n",
            "Requirement already satisfied: xlrd>=1.0.0 in /usr/local/lib/python3.7/dist-packages (from pyqlib->-r HIST_Colab/requirements.txt (line 6)) (1.1.0)\n",
            "Collecting lightgbm>=3.3.0\n",
            "  Downloading lightgbm-3.3.2-py3-none-manylinux1_x86_64.whl (2.0 MB)\n",
            "\u001b[K     |████████████████████████████████| 2.0 MB 63.0 MB/s \n",
            "\u001b[?25hRequirement already satisfied: tornado in /usr/local/lib/python3.7/dist-packages (from pyqlib->-r HIST_Colab/requirements.txt (line 6)) (5.1.1)\n",
            "Requirement already satisfied: filelock in /usr/local/lib/python3.7/dist-packages (from pyqlib->-r HIST_Colab/requirements.txt (line 6)) (3.7.0)\n",
            "Requirement already satisfied: statsmodels in /usr/local/lib/python3.7/dist-packages (from pyqlib->-r HIST_Colab/requirements.txt (line 6)) (0.10.2)\n",
            "Collecting python-redis-lock>=3.3.1\n",
            "  Downloading python_redis_lock-3.7.0-py2.py3-none-any.whl (12 kB)\n",
            "Collecting ruamel.yaml>=0.16.12\n",
            "  Downloading ruamel.yaml-0.17.21-py3-none-any.whl (109 kB)\n",
            "\u001b[K     |████████████████████████████████| 109 kB 72.6 MB/s \n",
            "\u001b[?25hCollecting matplotlib\n",
            "  Downloading matplotlib-3.5.2-cp37-cp37m-manylinux_2_5_x86_64.manylinux1_x86_64.whl (11.2 MB)\n",
            "\u001b[K     |████████████████████████████████| 11.2 MB 53.1 MB/s \n",
            "\u001b[?25hRequirement already satisfied: requests>=2.18.0 in /usr/local/lib/python3.7/dist-packages (from pyqlib->-r HIST_Colab/requirements.txt (line 6)) (2.23.0)\n",
            "Collecting redis>=3.0.1\n",
            "  Downloading redis-4.3.2-py3-none-any.whl (244 kB)\n",
            "\u001b[K     |████████████████████████████████| 244 kB 78.0 MB/s \n",
            "\u001b[?25hCollecting python-socketio\n",
            "  Downloading python_socketio-5.6.0-py3-none-any.whl (56 kB)\n",
            "\u001b[K     |████████████████████████████████| 56 kB 5.4 MB/s \n",
            "\u001b[?25hCollecting schedule>=0.6.0\n",
            "  Downloading schedule-1.1.0-py2.py3-none-any.whl (10 kB)\n",
            "Requirement already satisfied: jinja2<3.1.0 in /usr/local/lib/python3.7/dist-packages (from pyqlib->-r HIST_Colab/requirements.txt (line 6)) (2.11.3)\n",
            "Collecting loguru\n",
            "  Downloading loguru-0.6.0-py3-none-any.whl (58 kB)\n",
            "\u001b[K     |████████████████████████████████| 58 kB 7.0 MB/s \n",
            "\u001b[?25hRequirement already satisfied: networkx in /usr/local/lib/python3.7/dist-packages (from hyperopt==0.1.2->pyqlib->-r HIST_Colab/requirements.txt (line 6)) (2.6.3)\n",
            "Requirement already satisfied: future in /usr/local/lib/python3.7/dist-packages (from hyperopt==0.1.2->pyqlib->-r HIST_Colab/requirements.txt (line 6)) (0.16.0)\n",
            "Requirement already satisfied: multiprocess in /usr/local/lib/python3.7/dist-packages (from cvxpy>=1.0.21->pyqlib->-r HIST_Colab/requirements.txt (line 6)) (0.70.13)\n",
            "Requirement already satisfied: ecos>=2 in /usr/local/lib/python3.7/dist-packages (from cvxpy>=1.0.21->pyqlib->-r HIST_Colab/requirements.txt (line 6)) (2.0.10)\n",
            "Requirement already satisfied: scs>=1.1.3 in /usr/local/lib/python3.7/dist-packages (from cvxpy>=1.0.21->pyqlib->-r HIST_Colab/requirements.txt (line 6)) (3.2.0)\n",
            "Requirement already satisfied: osqp>=0.4.1 in /usr/local/lib/python3.7/dist-packages (from cvxpy>=1.0.21->pyqlib->-r HIST_Colab/requirements.txt (line 6)) (0.6.2.post0)\n",
            "Requirement already satisfied: termcolor in /usr/local/lib/python3.7/dist-packages (from fire>=0.3.1->pyqlib->-r HIST_Colab/requirements.txt (line 6)) (1.1.0)\n",
            "Requirement already satisfied: MarkupSafe>=0.23 in /usr/local/lib/python3.7/dist-packages (from jinja2<3.1.0->pyqlib->-r HIST_Colab/requirements.txt (line 6)) (2.0.1)\n",
            "Requirement already satisfied: wheel in /usr/local/lib/python3.7/dist-packages (from lightgbm>=3.3.0->pyqlib->-r HIST_Colab/requirements.txt (line 6)) (0.37.1)\n",
            "Requirement already satisfied: kiwisolver>=1.0.1 in /usr/local/lib/python3.7/dist-packages (from matplotlib->catboost->-r HIST_Colab/requirements.txt (line 3)) (1.4.2)\n",
            "Requirement already satisfied: pillow>=6.2.0 in /usr/local/lib/python3.7/dist-packages (from matplotlib->catboost->-r HIST_Colab/requirements.txt (line 3)) (7.1.2)\n",
            "Requirement already satisfied: packaging>=20.0 in /usr/local/lib/python3.7/dist-packages (from matplotlib->catboost->-r HIST_Colab/requirements.txt (line 3)) (21.3)\n",
            "Requirement already satisfied: cycler>=0.10 in /usr/local/lib/python3.7/dist-packages (from matplotlib->catboost->-r HIST_Colab/requirements.txt (line 3)) (0.11.0)\n",
            "Requirement already satisfied: pyparsing>=2.2.1 in /usr/local/lib/python3.7/dist-packages (from matplotlib->catboost->-r HIST_Colab/requirements.txt (line 3)) (3.0.9)\n",
            "Collecting fonttools>=4.22.0\n",
            "  Downloading fonttools-4.33.3-py3-none-any.whl (930 kB)\n",
            "\u001b[K     |████████████████████████████████| 930 kB 64.4 MB/s \n",
            "\u001b[?25hRequirement already satisfied: typing-extensions in /usr/local/lib/python3.7/dist-packages (from kiwisolver>=1.0.1->matplotlib->catboost->-r HIST_Colab/requirements.txt (line 3)) (4.2.0)\n",
            "Collecting alembic\n",
            "  Downloading alembic-1.8.0-py3-none-any.whl (209 kB)\n",
            "\u001b[K     |████████████████████████████████| 209 kB 69.6 MB/s \n",
            "\u001b[?25hRequirement already satisfied: sqlparse>=0.3.1 in /usr/local/lib/python3.7/dist-packages (from mlflow>=1.12.1->pyqlib->-r HIST_Colab/requirements.txt (line 6)) (0.4.2)\n",
            "Requirement already satisfied: importlib-metadata!=4.7.0,>=3.7.0 in /usr/local/lib/python3.7/dist-packages (from mlflow>=1.12.1->pyqlib->-r HIST_Colab/requirements.txt (line 6)) (4.11.4)\n",
            "Requirement already satisfied: entrypoints in /usr/local/lib/python3.7/dist-packages (from mlflow>=1.12.1->pyqlib->-r HIST_Colab/requirements.txt (line 6)) (0.4)\n",
            "Collecting gitpython>=2.1.0\n",
            "  Downloading GitPython-3.1.27-py3-none-any.whl (181 kB)\n",
            "\u001b[K     |████████████████████████████████| 181 kB 77.3 MB/s \n",
            "\u001b[?25hCollecting prometheus-flask-exporter\n",
            "  Downloading prometheus_flask_exporter-0.20.1-py3-none-any.whl (18 kB)\n",
            "Collecting databricks-cli>=0.8.7\n",
            "  Downloading databricks-cli-0.16.6.tar.gz (62 kB)\n",
            "\u001b[K     |████████████████████████████████| 62 kB 1.0 MB/s \n",
            "\u001b[?25hCollecting querystring-parser\n",
            "  Downloading querystring_parser-1.2.4-py2.py3-none-any.whl (7.9 kB)\n",
            "Requirement already satisfied: sqlalchemy in /usr/local/lib/python3.7/dist-packages (from mlflow>=1.12.1->pyqlib->-r HIST_Colab/requirements.txt (line 6)) (1.4.36)\n",
            "Requirement already satisfied: click>=7.0 in /usr/local/lib/python3.7/dist-packages (from mlflow>=1.12.1->pyqlib->-r HIST_Colab/requirements.txt (line 6)) (7.1.2)\n",
            "Collecting docker>=4.0.0\n",
            "  Downloading docker-5.0.3-py2.py3-none-any.whl (146 kB)\n",
            "\u001b[K     |████████████████████████████████| 146 kB 58.5 MB/s \n",
            "\u001b[?25hRequirement already satisfied: cloudpickle in /usr/local/lib/python3.7/dist-packages (from mlflow>=1.12.1->pyqlib->-r HIST_Colab/requirements.txt (line 6)) (1.3.0)\n",
            "Requirement already satisfied: Flask in /usr/local/lib/python3.7/dist-packages (from mlflow>=1.12.1->pyqlib->-r HIST_Colab/requirements.txt (line 6)) (1.1.4)\n",
            "Collecting gunicorn\n",
            "  Downloading gunicorn-20.1.0-py3-none-any.whl (79 kB)\n",
            "\u001b[K     |████████████████████████████████| 79 kB 9.3 MB/s \n",
            "\u001b[?25hRequirement already satisfied: protobuf>=3.12.0 in /usr/local/lib/python3.7/dist-packages (from mlflow>=1.12.1->pyqlib->-r HIST_Colab/requirements.txt (line 6)) (3.17.3)\n",
            "Collecting pyjwt>=1.7.0\n",
            "  Downloading PyJWT-2.4.0-py3-none-any.whl (18 kB)\n",
            "Requirement already satisfied: oauthlib>=3.1.0 in /usr/local/lib/python3.7/dist-packages (from databricks-cli>=0.8.7->mlflow>=1.12.1->pyqlib->-r HIST_Colab/requirements.txt (line 6)) (3.2.0)\n",
            "Requirement already satisfied: tabulate>=0.7.7 in /usr/local/lib/python3.7/dist-packages (from databricks-cli>=0.8.7->mlflow>=1.12.1->pyqlib->-r HIST_Colab/requirements.txt (line 6)) (0.8.9)\n",
            "Collecting websocket-client>=0.32.0\n",
            "  Downloading websocket_client-1.3.2-py3-none-any.whl (54 kB)\n",
            "\u001b[K     |████████████████████████████████| 54 kB 3.1 MB/s \n",
            "\u001b[?25hCollecting gitdb<5,>=4.0.1\n",
            "  Downloading gitdb-4.0.9-py3-none-any.whl (63 kB)\n",
            "\u001b[K     |████████████████████████████████| 63 kB 2.1 MB/s \n",
            "\u001b[?25hCollecting smmap<6,>=3.0.1\n",
            "  Downloading smmap-5.0.0-py3-none-any.whl (24 kB)\n",
            "Requirement already satisfied: zipp>=0.5 in /usr/local/lib/python3.7/dist-packages (from importlib-metadata!=4.7.0,>=3.7.0->mlflow>=1.12.1->pyqlib->-r HIST_Colab/requirements.txt (line 6)) (3.8.0)\n",
            "Requirement already satisfied: qdldl in /usr/local/lib/python3.7/dist-packages (from osqp>=0.4.1->cvxpy>=1.0.21->pyqlib->-r HIST_Colab/requirements.txt (line 6)) (0.1.5.post2)\n",
            "Requirement already satisfied: tenacity>=6.2.0 in /usr/local/lib/python3.7/dist-packages (from plotly->catboost->-r HIST_Colab/requirements.txt (line 3)) (8.0.1)\n",
            "Collecting deprecated>=1.2.3\n",
            "  Downloading Deprecated-1.2.13-py2.py3-none-any.whl (9.6 kB)\n",
            "Collecting async-timeout>=4.0.2\n",
            "  Downloading async_timeout-4.0.2-py3-none-any.whl (5.8 kB)\n",
            "Requirement already satisfied: wrapt<2,>=1.10 in /usr/local/lib/python3.7/dist-packages (from deprecated>=1.2.3->redis>=3.0.1->pyqlib->-r HIST_Colab/requirements.txt (line 6)) (1.14.1)\n",
            "Requirement already satisfied: idna<3,>=2.5 in /usr/local/lib/python3.7/dist-packages (from requests>=2.18.0->pyqlib->-r HIST_Colab/requirements.txt (line 6)) (2.10)\n",
            "Requirement already satisfied: chardet<4,>=3.0.2 in /usr/local/lib/python3.7/dist-packages (from requests>=2.18.0->pyqlib->-r HIST_Colab/requirements.txt (line 6)) (3.0.4)\n",
            "Requirement already satisfied: urllib3!=1.25.0,!=1.25.1,<1.26,>=1.21.1 in /usr/local/lib/python3.7/dist-packages (from requests>=2.18.0->pyqlib->-r HIST_Colab/requirements.txt (line 6)) (1.24.3)\n",
            "Requirement already satisfied: certifi>=2017.4.17 in /usr/local/lib/python3.7/dist-packages (from requests>=2.18.0->pyqlib->-r HIST_Colab/requirements.txt (line 6)) (2022.5.18.1)\n",
            "Collecting ruamel.yaml.clib>=0.2.6\n",
            "  Downloading ruamel.yaml.clib-0.2.6-cp37-cp37m-manylinux1_x86_64.whl (546 kB)\n",
            "\u001b[K     |████████████████████████████████| 546 kB 75.1 MB/s \n",
            "\u001b[?25hCollecting munch<3.0,>=2.0.2\n",
            "  Downloading munch-2.5.0-py2.py3-none-any.whl (10 kB)\n",
            "Collecting jsonpickle<2.0,>=1.2\n",
            "  Downloading jsonpickle-1.5.2-py2.py3-none-any.whl (37 kB)\n",
            "Collecting py-cpuinfo>=4.0\n",
            "  Downloading py-cpuinfo-8.0.0.tar.gz (99 kB)\n",
            "\u001b[K     |████████████████████████████████| 99 kB 11.9 MB/s \n",
            "\u001b[?25hRequirement already satisfied: docopt<1.0,>=0.3 in /usr/local/lib/python3.7/dist-packages (from sacred>=0.7.4->pyqlib->-r HIST_Colab/requirements.txt (line 6)) (0.6.2)\n",
            "Collecting colorama>=0.4\n",
            "  Downloading colorama-0.4.4-py2.py3-none-any.whl (16 kB)\n",
            "Requirement already satisfied: numexpr>=2.6.2 in /usr/local/lib/python3.7/dist-packages (from tables>=3.6.1->pyqlib->-r HIST_Colab/requirements.txt (line 6)) (2.8.1)\n",
            "Requirement already satisfied: importlib-resources in /usr/local/lib/python3.7/dist-packages (from alembic->mlflow>=1.12.1->pyqlib->-r HIST_Colab/requirements.txt (line 6)) (5.7.1)\n",
            "Collecting Mako\n",
            "  Downloading Mako-1.2.0-py3-none-any.whl (78 kB)\n",
            "\u001b[K     |████████████████████████████████| 78 kB 5.4 MB/s \n",
            "\u001b[?25hRequirement already satisfied: greenlet!=0.4.17 in /usr/local/lib/python3.7/dist-packages (from sqlalchemy->mlflow>=1.12.1->pyqlib->-r HIST_Colab/requirements.txt (line 6)) (1.1.2)\n",
            "Requirement already satisfied: Werkzeug<2.0,>=0.15 in /usr/local/lib/python3.7/dist-packages (from Flask->mlflow>=1.12.1->pyqlib->-r HIST_Colab/requirements.txt (line 6)) (1.0.1)\n",
            "Requirement already satisfied: itsdangerous<2.0,>=0.24 in /usr/local/lib/python3.7/dist-packages (from Flask->mlflow>=1.12.1->pyqlib->-r HIST_Colab/requirements.txt (line 6)) (1.1.0)\n",
            "Requirement already satisfied: setuptools>=3.0 in /usr/local/lib/python3.7/dist-packages (from gunicorn->mlflow>=1.12.1->pyqlib->-r HIST_Colab/requirements.txt (line 6)) (57.4.0)\n",
            "Requirement already satisfied: prometheus-client in /usr/local/lib/python3.7/dist-packages (from prometheus-flask-exporter->mlflow>=1.12.1->pyqlib->-r HIST_Colab/requirements.txt (line 6)) (0.14.1)\n",
            "Collecting bidict>=0.21.0\n",
            "  Downloading bidict-0.22.0-py3-none-any.whl (36 kB)\n",
            "Collecting python-engineio>=4.3.0\n",
            "  Downloading python_engineio-4.3.2-py3-none-any.whl (52 kB)\n",
            "\u001b[K     |████████████████████████████████| 52 kB 1.7 MB/s \n",
            "\u001b[?25hRequirement already satisfied: patsy>=0.4.0 in /usr/local/lib/python3.7/dist-packages (from statsmodels->pyqlib->-r HIST_Colab/requirements.txt (line 6)) (0.5.2)\n",
            "Building wheels for collected packages: fire, databricks-cli, py-cpuinfo\n",
            "  Building wheel for fire (setup.py) ... \u001b[?25l\u001b[?25hdone\n",
            "  Created wheel for fire: filename=fire-0.4.0-py2.py3-none-any.whl size=115942 sha256=d3cbe5fd0e0c0e1d90a5b21094779ad05f747655ab1caea262ad9b149001ed58\n",
            "  Stored in directory: /root/.cache/pip/wheels/8a/67/fb/2e8a12fa16661b9d5af1f654bd199366799740a85c64981226\n",
            "  Building wheel for databricks-cli (setup.py) ... \u001b[?25l\u001b[?25hdone\n",
            "  Created wheel for databricks-cli: filename=databricks_cli-0.16.6-py3-none-any.whl size=112631 sha256=56b841c4445555c572e8305a690084835758f8331aa5587f9874a283938dd090\n",
            "  Stored in directory: /root/.cache/pip/wheels/96/c1/f8/d75a22e789ab6a4dff11f18338c3af4360189aa371295cc934\n",
            "  Building wheel for py-cpuinfo (setup.py) ... \u001b[?25l\u001b[?25hdone\n",
            "  Created wheel for py-cpuinfo: filename=py_cpuinfo-8.0.0-py3-none-any.whl size=22257 sha256=b2be13475e9ce229ab146eb2f7bd7201dfe566dd6b88d43769855a56107932d2\n",
            "  Stored in directory: /root/.cache/pip/wheels/d2/f1/1f/041add21dc9c4220157f1bd2bd6afe1f1a49524c3396b94401\n",
            "Successfully built fire databricks-cli py-cpuinfo\n",
            "Installing collected packages: smmap, websocket-client, pyjwt, Mako, gitdb, deprecated, async-timeout, ruamel.yaml.clib, redis, querystring-parser, pyyaml, python-engineio, pymongo, py-cpuinfo, prometheus-flask-exporter, munch, jsonpickle, gunicorn, gitpython, fonttools, docker, databricks-cli, colorama, bidict, alembic, schedule, sacred, ruamel.yaml, python-socketio, python-redis-lock, mlflow, matplotlib, loguru, lightgbm, fire, pyqlib, pickle5, catboost\n",
            "  Attempting uninstall: pyyaml\n",
            "    Found existing installation: PyYAML 3.13\n",
            "    Uninstalling PyYAML-3.13:\n",
            "      Successfully uninstalled PyYAML-3.13\n",
            "  Attempting uninstall: pymongo\n",
            "    Found existing installation: pymongo 4.1.1\n",
            "    Uninstalling pymongo-4.1.1:\n",
            "      Successfully uninstalled pymongo-4.1.1\n",
            "  Attempting uninstall: matplotlib\n",
            "    Found existing installation: matplotlib 3.2.2\n",
            "    Uninstalling matplotlib-3.2.2:\n",
            "      Successfully uninstalled matplotlib-3.2.2\n",
            "  Attempting uninstall: lightgbm\n",
            "    Found existing installation: lightgbm 2.2.3\n",
            "    Uninstalling lightgbm-2.2.3:\n",
            "      Successfully uninstalled lightgbm-2.2.3\n",
            "\u001b[31mERROR: pip's dependency resolver does not currently take into account all the packages that are installed. This behaviour is the source of the following dependency conflicts.\n",
            "albumentations 0.1.12 requires imgaug<0.2.7,>=0.2.5, but you have imgaug 0.2.9 which is incompatible.\u001b[0m\n",
            "Successfully installed Mako-1.2.0 alembic-1.8.0 async-timeout-4.0.2 bidict-0.22.0 catboost-1.0.6 colorama-0.4.4 databricks-cli-0.16.6 deprecated-1.2.13 docker-5.0.3 fire-0.4.0 fonttools-4.33.3 gitdb-4.0.9 gitpython-3.1.27 gunicorn-20.1.0 jsonpickle-1.5.2 lightgbm-3.3.2 loguru-0.6.0 matplotlib-3.5.2 mlflow-1.26.1 munch-2.5.0 pickle5-0.0.12 prometheus-flask-exporter-0.20.1 py-cpuinfo-8.0.0 pyjwt-2.4.0 pymongo-3.7.2 pyqlib-0.8.5 python-engineio-4.3.2 python-redis-lock-3.7.0 python-socketio-5.6.0 pyyaml-6.0 querystring-parser-1.2.4 redis-4.3.2 ruamel.yaml-0.17.21 ruamel.yaml.clib-0.2.6 sacred-0.8.2 schedule-1.1.0 smmap-5.0.0 websocket-client-1.3.2\n"
          ]
        },
        {
          "output_type": "display_data",
          "data": {
            "application/vnd.colab-display-data+json": {
              "pip_warning": {
                "packages": [
                  "matplotlib",
                  "mpl_toolkits"
                ]
              }
            }
          },
          "metadata": {}
        }
      ]
    },
    {
      "cell_type": "code",
      "source": [
        "!git clone https://github.com/microsoft/qlib.git && cd qlib"
      ],
      "metadata": {
        "colab": {
          "base_uri": "https://localhost:8080/"
        },
        "id": "bd-aNGQhEfNP",
        "outputId": "f182308c-3086-4f83-b2dc-9a174606756a"
      },
      "execution_count": 3,
      "outputs": [
        {
          "output_type": "stream",
          "name": "stdout",
          "text": [
            "Cloning into 'qlib'...\n",
            "remote: Enumerating objects: 14814, done.\u001b[K\n",
            "remote: Counting objects: 100% (245/245), done.\u001b[K\n",
            "remote: Compressing objects: 100% (199/199), done.\u001b[K\n",
            "remote: Total 14814 (delta 103), reused 141 (delta 45), pack-reused 14569\u001b[K\n",
            "Receiving objects: 100% (14814/14814), 15.30 MiB | 28.75 MiB/s, done.\n",
            "Resolving deltas: 100% (10657/10657), done.\n"
          ]
        }
      ]
    },
    {
      "cell_type": "code",
      "source": [
        "!python qlib/scripts/get_data.py qlib_data --target_dir ~/.qlib/qlib_data/cn_data --region cn --version v2"
      ],
      "metadata": {
        "colab": {
          "base_uri": "https://localhost:8080/"
        },
        "id": "LynS2r8QEwlK",
        "outputId": "804f8c3e-d3d4-4594-df36-05b85c69a314"
      },
      "execution_count": 4,
      "outputs": [
        {
          "output_type": "stream",
          "name": "stdout",
          "text": [
            "\u001b[32m2022-06-01 17:52:04.685\u001b[0m | \u001b[33m\u001b[1mWARNING \u001b[0m | \u001b[36mqlib.tests.data\u001b[0m:\u001b[36m_download_data\u001b[0m:\u001b[36m57\u001b[0m - \u001b[33m\u001b[1mThe data for the example is collected from Yahoo Finance. Please be aware that the quality of the data might not be perfect. (You can refer to the original data source: https://finance.yahoo.com/lookup.)\u001b[0m\n",
            "\u001b[32m2022-06-01 17:52:04.685\u001b[0m | \u001b[1mINFO    \u001b[0m | \u001b[36mqlib.tests.data\u001b[0m:\u001b[36m_download_data\u001b[0m:\u001b[36m59\u001b[0m - \u001b[1mqlib_data_cn_1d_latest.zip downloading......\u001b[0m\n",
            "216677376it [00:22, 9429182.31it/s]                   \n",
            "\u001b[32m2022-06-01 17:52:27.666\u001b[0m | \u001b[33m\u001b[1mWARNING \u001b[0m | \u001b[36mqlib.tests.data\u001b[0m:\u001b[36m_unzip\u001b[0m:\u001b[36m82\u001b[0m - \u001b[33m\u001b[1mwill delete the old qlib data directory(features, instruments, calendars, features_cache, dataset_cache): /root/.qlib/qlib_data/cn_data\u001b[0m\n",
            "\u001b[32m2022-06-01 17:52:27.666\u001b[0m | \u001b[1mINFO    \u001b[0m | \u001b[36mqlib.tests.data\u001b[0m:\u001b[36m_unzip\u001b[0m:\u001b[36m85\u001b[0m - \u001b[1m/root/.qlib/qlib_data/cn_data/20220601175204_qlib_data_cn_1d_latest.zip unzipping......\u001b[0m\n",
            "100% 43788/43788 [00:09<00:00, 4652.80it/s]\n"
          ]
        }
      ]
    },
    {
      "cell_type": "code",
      "source": [
        "!cp HIST_Colab/csi300_norepeat.txt ~/.qlib/qlib_data/cn_data/instruments"
      ],
      "metadata": {
        "id": "RRPbh0aaFjzA"
      },
      "execution_count": 5,
      "outputs": []
    },
    {
      "cell_type": "code",
      "source": [
        "!python HIST_Colab/learn.py --model_name HIST --repeat 1 --data_set csi100 --data_set_z csi300_norepeat --hidden_size 128 --num_layers 2 --outdir ./HIST_Colab/output/CSI100_CSI300NREP_HIST"
      ],
      "metadata": {
        "colab": {
          "base_uri": "https://localhost:8080/"
        },
        "id": "lK6LK5nvF--W",
        "outputId": "feb41933-7131-4d05-99ad-34cf1a4782f2"
      },
      "execution_count": null,
      "outputs": [
        {
          "output_type": "stream",
          "name": "stdout",
          "text": [
            "[223:MainThread](2022-06-01 17:52:40,876) INFO - qlib.Initialization - [config.py:402] - default_conf: client.\n",
            "[223:MainThread](2022-06-01 17:52:41,508) INFO - qlib.Initialization - [__init__.py:74] - qlib successfully initialized based on client settings.\n",
            "[223:MainThread](2022-06-01 17:52:41,508) INFO - qlib.Initialization - [__init__.py:76] - data_path={'__DEFAULT_FREQ': PosixPath('/root/.qlib/qlib_data/cn_data')}\n",
            "[2022-06-02 01:52:43] - create loaders...\n"
          ]
        }
      ]
    }
  ]
}